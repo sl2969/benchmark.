{
 "cells": [
  {
   "cell_type": "markdown",
   "metadata": {},
   "source": [
    "# Import Libraries"
   ]
  },
  {
   "cell_type": "code",
   "execution_count": null,
   "metadata": {
    "vscode": {
     "languageId": "plaintext"
    }
   },
   "outputs": [],
   "source": [
    "import json\n",
    "import numpy as np\n",
    "import pandas as pd"
   ]
  },
  {
   "cell_type": "markdown",
   "metadata": {},
   "source": [
    "# Define Functions"
   ]
  },
  {
   "cell_type": "code",
   "execution_count": null,
   "metadata": {
    "vscode": {
     "languageId": "plaintext"
    }
   },
   "outputs": [],
   "source": [
    "def load_weights_from_csv(file_path):\n",
    "    \"\"\"\n",
    "    Load weights from a CSV file into a dictionary.\n",
    "\n",
    "    Args:\n",
    "        file_path (str): Path to the CSV file containing weights.\n",
    "\n",
    "    Returns:\n",
    "        dict: Dictionary mapping parameters to disease weights.\n",
    "    \"\"\"\n",
    "    df = pd.read_csv(file_path)\n",
    "    weights = {}\n",
    "    for _, row in df.iterrows():\n",
    "        param = row[\"Parameter\"]\n",
    "        weights[param] = {disease: row[disease] for disease in df.columns[1:]}\n",
    "    return weights\n",
    "\n",
    "def map_transcript_to_prediction_format(transcript):\n",
    "    \"\"\"\n",
    "    Convert the transcript output JSON into the required format for disease prediction.\n",
    "\n",
    "    Args:\n",
    "        transcript (dict): JSON-like dictionary containing the transcript output.\n",
    "\n",
    "    Returns:\n",
    "        dict: Transformed patient data ready for disease prediction.\n",
    "    \"\"\"\n",
    "    # Flatten and map keys to the expected prediction format\n",
    "    patient_data = {}\n",
    "\n",
    "    # Symptoms & Severity\n",
    "    symptoms = transcript.get(\"Symptoms & Severity\", {})\n",
    "    for symptom, value in symptoms.items():\n",
    "        patient_data[symptom] = value\n",
    "\n",
    "    # Laboratory Tests\n",
    "    lab_tests = transcript.get(\"Laboratory Tests\", {})\n",
    "    for test, details in lab_tests.items():\n",
    "        if \"value\" in details:\n",
    "            patient_data[test] = details[\"value\"]\n",
    "\n",
    "    # Imaging Studies\n",
    "    imaging = transcript.get(\"Imaging Studies\", {})\n",
    "    for study, result in imaging.items():\n",
    "        patient_data[study] = result\n",
    "\n",
    "    # Pain Characteristics (if relevant)\n",
    "    pain_characteristics = transcript.get(\"Pain Characteristics\", {}).get(\"chest_pain\", {})\n",
    "    if pain_characteristics:\n",
    "        patient_data[\"pain_characteristics\"] = {\n",
    "            \"location\": pain_characteristics.get(\"location\", \"unknown\"),\n",
    "            \"radiation\": pain_characteristics.get(\"radiation\", \"unknown\"),\n",
    "            \"aggravating_factors\": pain_characteristics.get(\"aggravating_factors\", \"unknown\"),\n",
    "            \"alleviating_factors\": pain_characteristics.get(\"alleviating_factors\", \"unknown\")\n",
    "        }\n",
    "\n",
    "    return patient_data\n",
    "\n",
    "def calculate_confidence(diseases):\n",
    "    \"\"\"\n",
    "    Compute confidence level based on probability distribution.\n",
    "    Uses information gain principles to assess certainty.\n",
    "\n",
    "    Args:\n",
    "        diseases (dict): Dictionary of disease probabilities.\n",
    "\n",
    "    Returns:\n",
    "        float: Confidence percentage.\n",
    "    \"\"\"\n",
    "    sorted_probs = sorted(diseases.values(), reverse=True)\n",
    "    top_prob = sorted_probs[0]\n",
    "    second_prob = sorted_probs[1] if len(sorted_probs) > 1 else 0\n",
    "    \n",
    "    # Confidence increases with probability margin\n",
    "    confidence = (top_prob - second_prob) * 100  # Emphasizing separation\n",
    "    confidence = max(10, min(confidence, 95))  # Bound between 10% and 95%\n",
    "    \n",
    "    return round(confidence, 2)\n",
    "\n",
    "def predict_disease(patient_data, weights):\n",
    "    \"\"\"\n",
    "    Predict the most likely disease from a set of seven possible conditions\n",
    "    based on patient input data.\n",
    "\n",
    "    Args:\n",
    "        patient_data (dict): A JSON-like dictionary containing structured patient data.\n",
    "        weights (dict): Dictionary containing weights for each parameter.\n",
    "\n",
    "    Returns:\n",
    "        dict: Predicted disease with probabilities and confidence analysis.\n",
    "    \"\"\"\n",
    "\n",
    "    # Initialize disease probabilities\n",
    "    diseases = {disease: 0 for disease in list(weights.values())[0].keys()}\n",
    "    factor_contributions = {disease: [] for disease in diseases}\n",
    "    \n",
    "    # Iterate over patient data and update probabilities\n",
    "    for key, value in patient_data.items():\n",
    "        if key in weights and value != \"unknown\":\n",
    "            for disease, weight in weights[key].items():\n",
    "                diseases[disease] += weight\n",
    "                factor_contributions[disease].append({\"factor\": key, \"weight\": weight})\n",
    "\n",
    "    # Normalize probabilities\n",
    "    total_weight = sum(diseases.values())\n",
    "    if total_weight > 0:\n",
    "        for disease in diseases:\n",
    "            diseases[disease] = round((diseases[disease] / total_weight) * 100, 2)\n",
    "    \n",
    "    # Compute confidence\n",
    "    confidence_percentage = calculate_confidence(diseases)\n",
    "    \n",
    "    # Find the most likely disease\n",
    "    predicted_disease = max(diseases, key=diseases.get)\n",
    "\n",
    "    return {\n",
    "        \"predicted_disease\": predicted_disease,\n",
    "        \"probabilities\": diseases,\n",
    "        \"confidence_percentage\": confidence_percentage,\n",
    "        \"contributing_factors\": factor_contributions[predicted_disease]\n",
    "    }"
   ]
  },
  {
   "cell_type": "markdown",
   "metadata": {},
   "source": [
    "# Main Function"
   ]
  },
  {
   "cell_type": "code",
   "execution_count": null,
   "metadata": {
    "vscode": {
     "languageId": "plaintext"
    }
   },
   "outputs": [],
   "source": [
    "if __name__ == \"__main__\":\n",
    "    # Load weights from CSV\n",
    "    weights_file = \"DUCG_Weight_Table.csv\"  # Ensure this file is available in the working directory\n",
    "    weights = load_weights_from_csv(weights_file)\n",
    "\n",
    "    # Load example transcript output\n",
    "    with open(\"transcript_output.json\", \"r\") as f:\n",
    "        transcript = json.load(f)\n",
    "\n",
    "    # Map transcript to prediction format\n",
    "    patient_data = map_transcript_to_prediction_format(transcript)\n",
    "\n",
    "    # Predict disease\n",
    "    prediction = predict_disease(patient_data, weights)\n",
    "    print(json.dumps(prediction, indent=4))"
   ]
  }
 ],
 "metadata": {
  "language_info": {
   "name": "python"
  }
 },
 "nbformat": 4,
 "nbformat_minor": 2
}
